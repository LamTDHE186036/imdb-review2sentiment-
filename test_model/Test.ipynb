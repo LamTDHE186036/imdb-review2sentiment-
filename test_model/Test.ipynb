{
 "cells": [
  {
   "cell_type": "code",
   "execution_count": null,
   "id": "df938c7e",
   "metadata": {},
   "outputs": [],
   "source": [
    "from tensorflow.keras.models import load_model\n",
    "\n",
    "# Tải lại mô hình\n",
    "model = load_model(\"model_imdb.h5\")\n",
    "\n",
    "# Dự đoán\n",
    "sample = [\"I think this movie very amazing but my friend fells boring!\"]\n",
    "# Bạn cần token hóa giống lúc train:\n",
    "sequence = tokenizer.texts_to_sequences(sample)\n",
    "padded = pad_sequences(sequence, maxlen=100)\n",
    "\n",
    "# Dự đoán cảm xúc\n",
    "prediction = model.predict(padded)\n",
    "print(\"Sentiment:\", \"Positive\" if prediction[0][0] > 0.5 else \"Negative\")\n"
   ]
  }
 ],
 "metadata": {
  "language_info": {
   "name": "python"
  }
 },
 "nbformat": 4,
 "nbformat_minor": 5
}
